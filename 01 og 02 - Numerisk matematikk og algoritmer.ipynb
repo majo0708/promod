{
 "cells": [
  {
   "cell_type": "markdown",
   "metadata": {},
   "source": [
    "# Numerisk matematikk og algoritmer\n",
    "## Gruppearbeid av Lars og Joakim"
   ]
  },
  {
   "cell_type": "markdown",
   "metadata": {},
   "source": [
    "Vi får stort sett en feil når vi arbeider numerisk"
   ]
  },
  {
   "cell_type": "markdown",
   "metadata": {},
   "source": [
    "## Definosjon av algoritme\n",
    "En algoritme er en presis beskrivelse av en serie operasjoner som skal utføres for å oppnå et visst resultat.\n",
    "Eksempler på domener som inneholder algoritmer:\n",
    "- Datamaskiner\n",
    "- Matematikk\n",
    "- Sosiale strukturer og normer\n",
    "- Hjernen vår"
   ]
  },
  {
   "cell_type": "code",
   "execution_count": 3,
   "metadata": {},
   "outputs": [
    {
     "name": "stdout",
     "output_type": "stream",
     "text": [
      "Numerisk: 3.4641016151377544 | Analytisk: 3.4641016151377544\n"
     ]
    }
   ],
   "source": [
    "import math as m\n",
    "# Kvadratrotalgoritme\n",
    "a = 12 # Tall vi skal ta roten av\n",
    "x = 3.5 # Gjetning\n",
    "\n",
    "for i in range(3):\n",
    "    x = 0.5*(x + a/x)\n",
    "print(\"Numerisk:\", x, \"| Analytisk:\", m.sqrt(12))"
   ]
  },
  {
   "cell_type": "code",
   "execution_count": 4,
   "metadata": {},
   "outputs": [
    {
     "name": "stdout",
     "output_type": "stream",
     "text": [
      "numerisk: 3.4641016151377544 | analytisk: 3.4641016151377544\n"
     ]
    }
   ],
   "source": [
    "import math as m\n",
    "# Laget som en funksjon\n",
    "\n",
    "def kvadrot(a,x0,N):\n",
    "    \"\"\"\n",
    "    a: Det vi skal ta kvadratrota av\n",
    "    x0: Startgjett\n",
    "    N: antall iterasjoner\n",
    "    \"\"\"\n",
    "    x = x0\n",
    "    for i in range(N):\n",
    "        x = 0.5*(x + a/x)\n",
    "    return x\n",
    "\n",
    "rot = kvadrot(12, 100, 10)\n",
    "\n",
    "print(\"numerisk:\", rot, \"| analytisk:\", m.sqrt(12))"
   ]
  },
  {
   "cell_type": "markdown",
   "metadata": {},
   "source": [
    "## Likninger og algoritmer\n",
    "Her skal vi se litt på ulike måter å løse likninger på.\n",
    "\n",
    "### Metode 1: Halveringsmetoden"
   ]
  },
  {
   "cell_type": "code",
   "execution_count": 100,
   "metadata": {},
   "outputs": [
    {
     "name": "stdout",
     "output_type": "stream",
     "text": [
      "-2.0 54\n"
     ]
    }
   ],
   "source": [
    "# Halveringsmetoden - skisse\n",
    "def f(x):\n",
    "    return x**2 - 4\n",
    "\n",
    "a = -10\n",
    "b = 10\n",
    "m = (a+b)/2\n",
    "\n",
    "tol = 1E-15\n",
    "teller = 0\n",
    "\n",
    "while abs(f(m)) > tol:\n",
    "    teller += 1\n",
    "    if f(a) * f(m) < 0:\n",
    "        b = m\n",
    "    elif f(b) * f(m) < 0:\n",
    "        a = m\n",
    "    m = (a+b)/2\n",
    "print(m, teller)"
   ]
  },
  {
   "cell_type": "markdown",
   "metadata": {},
   "source": [
    "#### Metode som funksjon"
   ]
  },
  {
   "cell_type": "code",
   "execution_count": 102,
   "metadata": {},
   "outputs": [
    {
     "name": "stdout",
     "output_type": "stream",
     "text": [
      "Nullpunktet er: -1.158680400920244 og løkka kjørte 54 ganger.\n"
     ]
    }
   ],
   "source": [
    "def g(x):\n",
    "    return x**6 - 3*x**5 - 2*x**2 - 6\n",
    "\n",
    "def halv(g, a, b, tol = 1E-14):\n",
    "    \"\"\"\n",
    "    f : funksjon\n",
    "    a : starten av interval\n",
    "    b : slutten av interval\n",
    "    \"\"\"\n",
    "    m = (a+b)/2\n",
    "    teller = 0\n",
    "    while abs(g(m)) > tol:\n",
    "        if g(a) * g(m) < 0:\n",
    "            b = m\n",
    "        elif g(b) * g(m) < 0:\n",
    "            a = m\n",
    "        m = (a+b)/2\n",
    "        teller += 1\n",
    "    return m, teller\n",
    "\n",
    "nullpunkt, antall = halv(g, -10, 10)\n",
    "print(\"Nullpunktet er:\", nullpunkt, \"og løkka kjørte\", antall, \"ganger.\")"
   ]
  },
  {
   "cell_type": "markdown",
   "metadata": {},
   "source": [
    "### Metode 2: Newtons metode\n",
    "Sjekker tangentenes nullpunkter til punkter og finner nullpunkt.\n",
    "Vi har en kontinuerlig funksjon $f$. Vi tilnærmer nullpunktet til $f$ med nullpunktet til tangentene til $f(x)$, $T(x)$\n",
    "\n",
    "Vi bruker ettpunktsformelen:\n",
    "\n",
    "$$y - y_1 = a(x - x_1)$$\n",
    "\n",
    "Vi om formulerer og setter $a$ til den deriverte av $x$ (siden stigningstallet kan bli funnet av den deriverte):\n",
    "\n",
    "$$y = f(x_1) + f'(x_1)(x - x_1)$$\n",
    "\n",
    "$$0 = f(x_1) + f'(x_1)(x - x_1)$$\n",
    "\n",
    "$$- \\frac{f(x_1)}{f'(x_1)} = x - x_1$$\n",
    "\n",
    "$$x = x_1 - \\frac{f(x_1)}{f'(x_1)}$$\n",
    "\n",
    "Da har vi til slutt en metode som er Newtons metode:\n",
    "\n",
    "$$x_{n+1} = x_n - \\frac{f(x_n)}{f'(x_n)}$$"
   ]
  },
  {
   "cell_type": "code",
   "execution_count": 104,
   "metadata": {},
   "outputs": [
    {
     "name": "stdout",
     "output_type": "stream",
     "text": [
      "Nullpunktet er: 2.0 og løkka kjørte 15 ganger\n"
     ]
    }
   ],
   "source": [
    "def h(x):\n",
    "    return x**2 - 4\n",
    "\n",
    "def fder(x): #(f, x, dx=1E-8):\n",
    "    #der = (f(x + dx) - f(x))/dx\n",
    "    #return der\n",
    "    #numerisk metode i kommentarer\n",
    "    return 2*x\n",
    "\n",
    "def newt(h, fder, x, tol=1E-14, N=100):\n",
    "    \"\"\"\n",
    "    f : funksjon du vil bruke\n",
    "    der : den deriverte av funksjonen\n",
    "    x : gjettning\n",
    "    \"\"\"\n",
    "    i = 0\n",
    "    while abs(h(x)) > tol and i < N:\n",
    "        x -= h(x)/fder(x)\n",
    "        i += 1\n",
    "    return x, i\n",
    "\n",
    "nullpunkt, antall = newt(h, fder, 2000)\n",
    "print(\"Nullpunktet er:\", nullpunkt, \"og løkka kjørte\", antall, \"ganger\")"
   ]
  },
  {
   "cell_type": "markdown",
   "metadata": {},
   "source": [
    "Problemer med metoden er at den kan møte topp- og bunnpunkter som gjør at metoden ikke konvergerer."
   ]
  },
  {
   "cell_type": "markdown",
   "metadata": {},
   "source": [
    "## Skyte spurv med atombomber\n",
    "### a)\n",
    "Utrykket etter ei viss tid $y(t)$ kan uttrykkes ved:\n",
    "\n",
    "$$y(t) = v_0 \\cdot \\sin{\\theta} \\cdot t - \\frac{1}{2}gt^2$$\n",
    "\n",
    "der $v_0$ er startfarten, $\\sin{\\theta}$ er utskytningsvinkelen, $t$ er tiden og $g$ er tyngdeakselerasjonen på 9.81$m/s^2$.\n",
    "\n",
    "Siden man har en lengde $v_0$ og en sinus på $\\sin{\\theta}$ kan vi gange disse sammen for å finne høyden.\n",
    "Deretter kan man gange med tiden $t$ og trekke fra tyngdeakselerasjonen siden tyngdeakselerasjonen utfører negativt arbeid på ballen i høyden.\n",
    "\n",
    "\n",
    "### b)\n",
    "Etter en tid $t$ kan en strekning $x(t)$ (gitt i meter) uttrykkes ved:\n",
    "\n",
    "$$x(t) = v_0 \\cdot \\cos{\\theta} \\cdot t$$\n",
    "\n",
    "der leddene har blitt forklart i oppgave a. ($\\cos{\\theta}$ er fortsatt utskytningsvinkelen).\n",
    "\n",
    "### c) og d)\n",
    "\n"
   ]
  },
  {
   "cell_type": "code",
   "execution_count": 6,
   "metadata": {},
   "outputs": [
    {
     "name": "stdout",
     "output_type": "stream",
     "text": [
      "Tid: 1.1340075498641349 | Avstand: 19.41309485687136\n",
      "1.1340073188071464\n"
     ]
    }
   ],
   "source": [
    "import pylab as p\n",
    "def y(t, v0, theta):\n",
    "    \"\"\"\n",
    "    Parameters\n",
    "    ----------\n",
    "    t : tid\n",
    "    v0 : startfart\n",
    "    theta : vinkelen til kanonen\n",
    "\n",
    "    Returns\n",
    "    -------\n",
    "    TYPE\n",
    "        DESCRIPTION.\n",
    "\n",
    "    \"\"\"\n",
    "    return v0 * p.sin(theta) * t - 0.5*(g*t**2)\n",
    "\n",
    "def yder(t, v0, theta):\n",
    "    return v0 * p.sin(theta) - g*t\n",
    "\n",
    "def x(t, v0, theta):\n",
    "    return v0 * p.cos(theta) * t\n",
    "\n",
    "def newtons(f, fder, x, v0, theta, tol=1E-5, N=100):\n",
    "    i = 0\n",
    "    while abs(f(x, v0, theta)) > tol and i <= 100:\n",
    "        x -= f(x, v0, theta)/fder(x, v0, theta)\n",
    "        i += 1\n",
    "    return x\n",
    "\n",
    "g = 9.81\n",
    "\n",
    "tid = newtons(y, yder, 10, 18, p.pi/10)\n",
    "avstand  = x(tid, 18, p.pi/10)\n",
    "print(\"Tid:\", tid, \"| Avstand:\", avstand)\n",
    "print(36*p.sin(p.pi/10)/g)"
   ]
  },
  {
   "cell_type": "markdown",
   "metadata": {},
   "source": [
    "### e)"
   ]
  },
  {
   "cell_type": "code",
   "execution_count": 18,
   "metadata": {},
   "outputs": [
    {
     "name": "stdout",
     "output_type": "stream",
     "text": [
      "Tider: [0.47095005254690075, 0.5536328500167916, 0.6660210805458796, 0.8157058851927667] \n",
      "Vinkler: [29.999999999999996, 36.0, 45.0, 59.99999999999999] \n",
      "Avstander: [1.8842887575168537, 2.0692905355021325, 2.175779863798387, 1.8842805947952914]\n"
     ]
    }
   ],
   "source": [
    "import pylab as p\n",
    "def y(t, v0, theta):\n",
    "    \"\"\"\n",
    "    Parameters\n",
    "    ----------\n",
    "    t : tid\n",
    "    v0 : startfart\n",
    "    theta : vinkelen til kanonen\n",
    "\n",
    "    Returns\n",
    "    -------\n",
    "    TYPE\n",
    "        DESCRIPTION.\n",
    "\n",
    "    \"\"\"\n",
    "    return v0 * p.sin(theta) * t - 0.5*(g*t**2)\n",
    "\n",
    "def yder(t, v0, theta):\n",
    "    return v0 * p.sin(theta) - g*t\n",
    "\n",
    "def x(t, v0, theta):\n",
    "    return v0 * p.cos(theta) * t\n",
    "\n",
    "def newtons(f, fder, x, v0, theta, tol=1E-5, N=100):\n",
    "    i = 0\n",
    "    while abs(f(x, v0, theta)) > tol and i <= 100:\n",
    "        x -= f(x, v0, theta)/fder(x, v0, theta)\n",
    "        i += 1\n",
    "    return x\n",
    "\n",
    "g = 9.81\n",
    "\n",
    "listeTid = []\n",
    "listeVinkel = []\n",
    "listeAvstand = []\n",
    "\n",
    "for i in range(6, 2, -1):\n",
    "    tid = newtons(y, yder, 10, 4.62, p.pi/i)\n",
    "    avstand = x(tid, 4.62, p.pi/i)\n",
    "    listeTid.append(tid)\n",
    "    listeVinkel.append((p.pi/i)*180/p.pi)\n",
    "    listeAvstand.append(avstand)\n",
    "print(\"Tider:\", listeTid, \"\\nVinkler:\", listeVinkel, \"\\nAvstander:\", listeAvstand)"
   ]
  },
  {
   "cell_type": "markdown",
   "metadata": {},
   "source": [
    "### f)"
   ]
  },
  {
   "cell_type": "code",
   "execution_count": 21,
   "metadata": {},
   "outputs": [
    {
     "name": "stdout",
     "output_type": "stream",
     "text": [
      "Tid: 0.6660210805458796 | Avstand: 2.175779863798387\n"
     ]
    }
   ],
   "source": [
    "import pylab as p\n",
    "def y(t, v0, theta):\n",
    "    \"\"\"\n",
    "    Parameters\n",
    "    ----------\n",
    "    t : tid\n",
    "    v0 : startfart\n",
    "    theta : vinkelen til kanonen\n",
    "\n",
    "    Returns\n",
    "    -------\n",
    "    TYPE\n",
    "        DESCRIPTION.\n",
    "    gir høyde på kanonball\n",
    "    \"\"\"\n",
    "    return v0 * p.sin(theta) * t - 0.5*(g*t**2)\n",
    "\n",
    "def yder(t, v0, theta):    \n",
    "    \"\"\"\n",
    "    DESCRIPTION\n",
    "    gir den deriverte av høyden\n",
    "    \"\"\"\n",
    "    return v0 * p.sin(theta) - g*t\n",
    "\n",
    "def x(t, v0, theta):\n",
    "    return v0 * p.cos(theta) * t\n",
    "    \"\"\"\n",
    "    DESCRIPTION\n",
    "    gir lengde av kanonball\n",
    "    \"\"\"\n",
    "\n",
    "def newtons(f, fder, x, v0, theta, tol=1E-5, N=100):\n",
    "    \"\"\"\n",
    "    Parameters\n",
    "    ----------\n",
    "    f : funksjon\n",
    "    fder : derverte av funksjon\n",
    "    x : gjettning av tid i sekunder før ballen treffer bakken\n",
    "    v0 : startfart\n",
    "    theta : vinkel oppgitt i radianer\n",
    "    tol : toleranse for avvik i den deriverte\n",
    "    N : toleranse for antall repetisjoner av denne funksjonen\n",
    "\n",
    "    Returns\n",
    "    -------\n",
    "    TYPE\n",
    "        DESCRIPTION.\n",
    "    gir oss en ny verdi av x som er derivert av en valgt funksjon f\n",
    "    \"\"\"\n",
    "    i = 0\n",
    "    while abs(f(x, v0, theta)) > tol and i <= 100:\n",
    "        x -= f(x, v0, theta)/fder(x, v0, theta)\n",
    "        i += 1\n",
    "    return x\n",
    "\n",
    "g = 9.81\n",
    "\n",
    "tid = newtons(y, yder, 10, 4.62, p.pi/4)\n",
    "avstand  = x(tid, 4.62, p.pi/4)\n",
    "print(\"Tid:\", tid, \"| Avstand:\", avstand)"
   ]
  },
  {
   "cell_type": "markdown",
   "metadata": {},
   "source": [
    "Resultaten vi fikk fra ett forsøk med vinkel $\\frac{\\pi}{4}$ var at:\n",
    "\n",
    "Tiden før ballen traff bakken - 0.9s\n",
    "\n",
    "Avstand - 2.52m\n",
    "\n",
    "Meter per sekund - 4.62m/s\n",
    "\n",
    "\n",
    "Vi fikk et avvik på rundt $\\frac{2.18 - 2.52}{2.18} \\cdot 100\\% = 15,60\\%$.\n",
    "\n",
    "I forsøk er det optimalt å få under 5% avvik, som viser at vår måling er noe upresis. I tilegg fikk vi en lengre avstand enn simuleringen, som viser at vi helt klart har gjort noe galt."
   ]
  },
  {
   "cell_type": "code",
   "execution_count": null,
   "metadata": {},
   "outputs": [],
   "source": []
  }
 ],
 "metadata": {
  "kernelspec": {
   "display_name": "Python 3",
   "language": "python",
   "name": "python3"
  },
  "language_info": {
   "codemirror_mode": {
    "name": "ipython",
    "version": 3
   },
   "file_extension": ".py",
   "mimetype": "text/x-python",
   "name": "python",
   "nbconvert_exporter": "python",
   "pygments_lexer": "ipython3",
   "version": "3.7.3"
  }
 },
 "nbformat": 4,
 "nbformat_minor": 2
}
