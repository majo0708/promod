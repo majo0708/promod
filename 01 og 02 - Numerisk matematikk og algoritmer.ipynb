{
 "cells": [
  {
   "cell_type": "markdown",
   "metadata": {},
   "source": [
    "# Numerisk matematikk og algoritmer"
   ]
  },
  {
   "cell_type": "markdown",
   "metadata": {},
   "source": [
    "Vi får stort sett en feil når vi arbeider numerisk"
   ]
  },
  {
   "cell_type": "markdown",
   "metadata": {},
   "source": [
    "## Definosjon av algoritme\n",
    "En algoritme er en presis beskrivelse av en serie operasjoner som skal utføres for å oppnå et visst resultat.\n",
    "Eksempler på domener som inneholder algoritmer:\n",
    "- Datamaskiner\n",
    "- Matematikk\n",
    "- Sosiale strukturer og normer\n",
    "- Hjernen vår"
   ]
  },
  {
   "cell_type": "code",
   "execution_count": 3,
   "metadata": {},
   "outputs": [
    {
     "name": "stdout",
     "output_type": "stream",
     "text": [
      "Numerisk: 3.4641016151377544 | Analytisk: 3.4641016151377544\n"
     ]
    }
   ],
   "source": [
    "import math as m\n",
    "# Kvadratrotalgoritme\n",
    "a = 12 # Tall vi skal ta roten av\n",
    "x = 3.5 # Gjetning\n",
    "\n",
    "for i in range(3):\n",
    "    x = 0.5*(x + a/x)\n",
    "print(\"Numerisk:\", x, \"| Analytisk:\", m.sqrt(12))"
   ]
  },
  {
   "cell_type": "code",
   "execution_count": 4,
   "metadata": {},
   "outputs": [
    {
     "name": "stdout",
     "output_type": "stream",
     "text": [
      "numerisk: 3.4641016151377544 | analytisk: 3.4641016151377544\n"
     ]
    }
   ],
   "source": [
    "import math as m\n",
    "# Laget som en funksjon\n",
    "\n",
    "def kvadrot(a,x0,N):\n",
    "    \"\"\"\n",
    "    a: Det vi skal ta kvadratrota av\n",
    "    x0: Startgjett\n",
    "    N: antall iterasjoner\n",
    "    \"\"\"\n",
    "    x = x0\n",
    "    for i in range(N):\n",
    "        x = 0.5*(x + a/x)\n",
    "    return x\n",
    "\n",
    "rot = kvadrot(12, 100, 10)\n",
    "\n",
    "print(\"numerisk:\", rot, \"| analytisk:\", m.sqrt(12))"
   ]
  },
  {
   "cell_type": "markdown",
   "metadata": {},
   "source": [
    "## Likninger og algoritmer\n",
    "Her skal vi se litt på ulike måter å løse likninger på.\n",
    "\n",
    "### Metode 1: Halveringsmetoden"
   ]
  },
  {
   "cell_type": "code",
   "execution_count": 41,
   "metadata": {},
   "outputs": [
    {
     "name": "stdout",
     "output_type": "stream",
     "text": [
      "-2.0 54\n"
     ]
    }
   ],
   "source": [
    "# Halveringsmetoden - skisse\n",
    "def f(x):\n",
    "    return x**2 - 4\n",
    "\n",
    "a = -10\n",
    "b = 10\n",
    "m = (a+b)/2\n",
    "\n",
    "tol = 1E-15\n",
    "teller = 0\n",
    "\n",
    "while abs(f(m)) > tol:\n",
    "    teller += 1\n",
    "    if f(a) * f(m) < 0:\n",
    "        b = m\n",
    "    elif f(b) * f(m) < 0:\n",
    "        a = m\n",
    "    m = (a+b)/2\n",
    "print(m, teller)"
   ]
  },
  {
   "cell_type": "markdown",
   "metadata": {},
   "source": [
    "### Metode som funksjon"
   ]
  },
  {
   "cell_type": "code",
   "execution_count": 74,
   "metadata": {},
   "outputs": [
    {
     "name": "stdout",
     "output_type": "stream",
     "text": [
      "Nullpunktet er: -1.158680400920244 og løkka kjørte 54 ganger.\n"
     ]
    }
   ],
   "source": [
    "def g(x):\n",
    "    return x**6 - 3*x**5 - 2*x**2 - 6\n",
    "\n",
    "def halv(f, a, b, tol = 1E-14):\n",
    "    \"\"\"\n",
    "    f : funksjon\n",
    "    a : starten av interval\n",
    "    b : slutten av interval\n",
    "    \"\"\"\n",
    "    m = (a+b)/2\n",
    "    teller = 0\n",
    "    while abs(f(m)) > tol:\n",
    "        if f(a) * f(m) < 0:\n",
    "            b = m\n",
    "        elif f(b) * f(m) < 0:\n",
    "            a = m\n",
    "        m = (a+b)/2\n",
    "        teller += 1\n",
    "    return m, teller\n",
    "\n",
    "nullpunkt, antall = halv(g, -10, 10)\n",
    "print(\"Nullpunktet er:\", nullpunkt, \"og løkka kjørte\", antall, \"ganger.\")"
   ]
  },
  {
   "cell_type": "code",
   "execution_count": null,
   "metadata": {},
   "outputs": [],
   "source": []
  }
 ],
 "metadata": {
  "kernelspec": {
   "display_name": "Python 3",
   "language": "python",
   "name": "python3"
  }
 },
 "nbformat": 4,
 "nbformat_minor": 2
}
