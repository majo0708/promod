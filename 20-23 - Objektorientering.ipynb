{
 "cells": [
  {
   "cell_type": "code",
   "execution_count": 3,
   "metadata": {},
   "outputs": [
    {
     "name": "stdout",
     "output_type": "stream",
     "text": [
      "LiF er en ionisk binding\n",
      "BrCl er mellom en polar og en upolar kovalent binding\n",
      "KO er en ionisk binding\n",
      "CH er mellom en polar og en upolar kovalent binding\n"
     ]
    }
   ],
   "source": [
    "#oppgave 1\n",
    "from pylab import *\n",
    "#oppgave 1a\n",
    "class Grunnstoff: #klasse med alle parameterene\n",
    "    def __init__(self,a_num,sym,navn,masse,el_neg):\n",
    "        self.a_num = a_num #disse gjør at variablene til objektene blir laget hver for seg\n",
    "        self.sym = sym\n",
    "        self.navn = navn\n",
    "        self.masse = masse\n",
    "        self.el_neg = el_neg\n",
    "\n",
    "#oppgave 1b\n",
    "karbon = Grunnstoff(6, \"C\", \"Karbon\", 1, 2.5) #definerer objekter ved hjelp av noen kilder\n",
    "litium = Grunnstoff(3, \"Li\", \"Litium\", 1, 1.0) #https://nettskulen.no/periodesystemet/ for periodesystem\n",
    "flour = Grunnstoff(9, \"F\", \"Flour\", 1, 4.0) #https://no.sawakinome.com/articles/science/difference-between-electronegativity-and-electron-affinity.html for elektronegativitetstall\n",
    "brom = Grunnstoff(35, \"Br\", \"Brom\", 1, 2.8)\n",
    "klor = Grunnstoff(17, \"Cl\", \"Klor\", 1, 3.0)\n",
    "kalium = Grunnstoff(19, \"K\", \"Kalium\", 1, 0.8)\n",
    "oksygen = Grunnstoff(8, \"O\", \"Oksygen\", 1, 3.5)\n",
    "hydrogen = Grunnstoff(1, \"H\", \"Hydrogen\", 1, 2.1) \n",
    "    \n",
    "def bindingstype(gs1,gs2):#oppgage 1c\n",
    "    #print(gs1.sym+gs2.sym) #finner sym delen av hvert objekt og legger dem sammen i en streng, deretter lagret til en variabel\n",
    "    #oppgave 1d\n",
    "    bind = gs1.sym+gs2.sym #gjør copy+paste enklere\n",
    "    h = abs(gs1.el_neg - gs2.el_neg) #for å finne differanse, lagrer det så i en variabel\n",
    "    if h >= 2.0: #masse if-statements for å sjekke hvilken binding molekylene har\n",
    "        print(bind,\"er en ionisk binding\")\n",
    "    elif h > 1.6:\n",
    "        print(bind,\"er mellom en ionisk og en polar kovalent binding\")\n",
    "    elif h > 0.5:\n",
    "        print(bind,\"er en polar kovalent binding\")\n",
    "    elif h > 0.3:\n",
    "        print(bind,\"er mellom en polar og en upolar kovalent binding\")\n",
    "    else:\n",
    "        print(bind,\"er mellom en polar og en upolar kovalent binding\")\n",
    "        \n",
    "bindingstype(litium,flour) #bruker funksjonen bindingstype\n",
    "bindingstype(brom,klor)\n",
    "bindingstype(kalium,oksygen)\n",
    "bindingstype(karbon,hydrogen)"
   ]
  },
  {
   "cell_type": "code",
   "execution_count": null,
   "metadata": {},
   "outputs": [],
   "source": []
  }
 ],
 "metadata": {
  "kernelspec": {
   "display_name": "Python 3",
   "language": "python",
   "name": "python3"
  },
  "language_info": {
   "codemirror_mode": {
    "name": "ipython",
    "version": 3
   },
   "file_extension": ".py",
   "mimetype": "text/x-python",
   "name": "python",
   "nbconvert_exporter": "python",
   "pygments_lexer": "ipython3",
   "version": "3.7.3"
  }
 },
 "nbformat": 4,
 "nbformat_minor": 2
}
