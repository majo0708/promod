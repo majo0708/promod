{
 "cells": [
  {
   "cell_type": "markdown",
   "metadata": {},
   "source": [
    "# Teori\n",
    "### Oppgave 1\n",
    "\n",
    "\n",
    "### Oppgave 2\n",
    "Selv om Aleksandria i dag har en populasjon på 144000 mennesker, har vi lagt bæreevnen ganske lavt, på grunn av resurssmangel.\n",
    "\n",
    "### Oppgave 3\n",
    "Dårlig tilgang til medisiner, leger og hjelp gjør at en del dør av årsaker som ville vært forhindret i dag.\n",
    "\n",
    "### Oppgave 4\n",
    "skriv noe etterpå\n",
    "\n",
    "### Oppgave 5\n",
    "Vi bytter ut "
   ]
  },
  {
   "cell_type": "code",
   "execution_count": 44,
   "metadata": {},
   "outputs": [
    {
     "data": {
      "text/plain": [
       "[<matplotlib.lines.Line2D at 0x207410367f0>]"
      ]
     },
     "execution_count": 44,
     "metadata": {},
     "output_type": "execute_result"
    },
    {
     "data": {
      "image/png": "[encoded data removed]",
      "text/plain": [
       "<Figure size 432x288 with 1 Axes>"
      ]
     },
     "metadata": {
      "needs_background": "light"
     },
     "output_type": "display_data"
    }
   ],
   "source": [
    "#Kode\n",
    "from pylab import *\n",
    "\n",
    "N = 48 #tid i måneder\n",
    "\n",
    "#konstanter for mennesker\n",
    "start_p = 500 #start populasjon i mennesker\n",
    "vekstrate_f = 0.3 #vesktrate i fødsel (prosent)\n",
    "innvandrere = 50 #innvandrere per måned\n",
    "baereevne = 5000 #max mennesker\n",
    "syk = 0.01 #vekst, død - sykdom (sjekk dette)\n",
    "skade = 0.05 #vekst, død - skader\n",
    "alderdom = 0.01 #vekst, død - naturlig\n",
    "hentere = 0.1 #prosent, mennesker som henter resursser\n",
    "p = start_p #populasjon\n",
    "\n",
    "#konstater for zombier\n",
    "start_z = 1000\n",
    "mord = 0.5 #prosent som dør av zombier\n",
    "smittet = 0.5 #prosent som blir smittet\n",
    "z_innvandrere = 0.1 #prosent zombier/smittede som innvandrer aleksandria\n",
    "z = start_z\n",
    "\n",
    "myrdet = 0\n",
    "\n",
    "#arrayer\n",
    "tid_array = zeros(N+1)\n",
    "m_pop_array = zeros(N+1)\n",
    "z_pop_array = zeros(N+1)\n",
    "\n",
    "m_pop_array[0] = start_p\n",
    "z_pop_array[0] = start_z\n",
    "\n",
    "for i in range(1,N+1):\n",
    "    p += vekstrate_f*p + innvandrere\n",
    "    p -= (syk+skade+alderdom)*p\n",
    "    myrdet = (hentere*p)*mord\n",
    "    p -= myrdet\n",
    "    z += myrdet*smittet\n",
    "    myrdet = z_innvandrere*z*mord*smittet\n",
    "    p -= myrdet\n",
    "    z += myrdet\n",
    "    if p > baereevne:\n",
    "        p = baereevne\n",
    "    tid_array[i] = i\n",
    "    m_pop_array[i] = p\n",
    "    z_pop_array[i] = z\n",
    "plot(tid_array, m_pop_array)\n",
    "plot(tid_array, z_pop_array)"
   ]
  },
  {
   "cell_type": "code",
   "execution_count": null,
   "metadata": {},
   "outputs": [],
   "source": []
  }
 ],
 "metadata": {
  "kernelspec": {
   "display_name": "Python 3",
   "language": "python",
   "name": "python3"
  },
  "language_info": {
   "codemirror_mode": {
    "name": "ipython",
    "version": 3
   },
   "file_extension": ".py",
   "mimetype": "text/x-python",
   "name": "python",
   "nbconvert_exporter": "python",
   "pygments_lexer": "ipython3",
   "version": "3.7.3"
  }
 },
 "nbformat": 4,
 "nbformat_minor": 2
}
